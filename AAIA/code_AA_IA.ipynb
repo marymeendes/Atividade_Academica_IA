{
 "cells": [
  {
   "cell_type": "code",
   "execution_count": 26,
   "metadata": {},
   "outputs": [],
   "source": [
    "# Load libraries\n",
    "import pandas\n",
    "from pandas.plotting import scatter_matrix\n",
    "import numpy as np\n",
    "import matplotlib.pyplot as plt\n",
    "from sklearn import model_selection\n",
    "from sklearn.model_selection import cross_val_score\n",
    "from sklearn.metrics import f1_score\n",
    "from sklearn.metrics import accuracy_score\n",
    "from sklearn.linear_model import LinearRegression\n",
    "from sklearn.tree import DecisionTreeClassifier\n",
    "from sklearn.naive_bayes import GaussianNB"
   ]
  },
  {
   "cell_type": "code",
   "execution_count": 6,
   "metadata": {},
   "outputs": [
    {
     "name": "stdout",
     "output_type": "stream",
     "text": [
      "(1473, 10)\n"
     ]
    }
   ],
   "source": [
    "# Load dataset\n",
    "#url = \"https://archive.ics.uci.edu/ml/machine-learning-databases/cmc/cmc.data\"\n",
    "#names = ['wife\\'s-age', 'wife\\'-education', 'husband\\'s-education', 'numbers-of-children', 'wife\\'s-religion', 'wife\\'s-now-working', 'husband\\'s-occupation', 'standard-of-living', 'media-exposure', 'cmu-class']\n",
    "#dataset = pandas.read_csv(url, names=names)\n",
    "\n",
    "# shape\n",
    "#print(dataset.shape)"
   ]
  },
  {
   "cell_type": "code",
   "execution_count": 36,
   "metadata": {},
   "outputs": [
    {
     "name": "stdout",
     "output_type": "stream",
     "text": [
      "(1473, 9) (1473,)\n",
      "[24.  2.  3.  3.  1.  1.  2.  3.  0.]\n"
     ]
    }
   ],
   "source": [
    "data = [] \n",
    "target = []\n",
    "\n",
    "with open('cmc.data') as f:\n",
    "    for line in f: \n",
    "        v = line.strip().split(\",\")\n",
    "        data.append(v[:-1])\n",
    "        target.append(v[-1])\n",
    "data = np.array(data)\n",
    "data = data.astype(np.float)\n",
    "target = np.array(target)\n",
    "target = target.astype(np.float)\n",
    "print(data.shape,target.shape)\n",
    "print(data[0])"
   ]
  },
  {
   "cell_type": "code",
   "execution_count": 37,
   "metadata": {},
   "outputs": [
    {
     "name": "stdout",
     "output_type": "stream",
     "text": [
      "(1178, 9) (295, 9) (1178,) (295,)\n"
     ]
    }
   ],
   "source": [
    "X_train, X_test, Y_train, Y_test = model_selection.train_test_split(data, target, test_size=0.2)\n",
    "print (X_train.shape, X_test.shape, Y_train.shape, Y_test.shape)"
   ]
  },
  {
   "cell_type": "code",
   "execution_count": 45,
   "metadata": {
    "scrolled": true
   },
   "outputs": [
    {
     "name": "stdout",
     "output_type": "stream",
     "text": [
      "0.5796610169491525 0.5616138763197586 0.5796610169491525\n"
     ]
    }
   ],
   "source": [
    "dtree_classifier = DecisionTreeClassifier(max_depth = 10)\n",
    "dtree_classifier.fit(X_train, Y_train) #treinando\n",
    "\n",
    "dtree_pred = dtree_classifier.predict(X_test) #na classe de teste, tento classificar corretamente o X_test\n",
    "\n",
    "dtree_microf1 = f1_score(Y_test, dtree_pred, average='micro')\n",
    "dtree_macrof1 = f1_score(Y_test, dtree_pred, average='macro')\n",
    "dtree_accuracy = accuracy_score(Y_test, dtree_pred)\n",
    "print(dtree_microf1, dtree_macrof1, dtree_accuracy)"
   ]
  },
  {
   "cell_type": "code",
   "execution_count": null,
   "metadata": {},
   "outputs": [],
   "source": []
  }
 ],
 "metadata": {
  "kernelspec": {
   "display_name": "Python 3",
   "language": "python",
   "name": "python3"
  },
  "language_info": {
   "codemirror_mode": {
    "name": "ipython",
    "version": 3
   },
   "file_extension": ".py",
   "mimetype": "text/x-python",
   "name": "python",
   "nbconvert_exporter": "python",
   "pygments_lexer": "ipython3",
   "version": "3.6.5"
  }
 },
 "nbformat": 4,
 "nbformat_minor": 2
}
