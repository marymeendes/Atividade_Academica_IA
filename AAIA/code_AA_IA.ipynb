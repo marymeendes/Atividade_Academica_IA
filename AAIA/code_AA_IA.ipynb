{
 "cells": [
  {
   "cell_type": "code",
   "execution_count": 24,
   "metadata": {},
   "outputs": [],
   "source": [
    "# Load libraries\n",
    "import pandas as pd\n",
    "from pandas.plotting import scatter_matrix\n",
    "import numpy as np\n",
    "import matplotlib.pyplot as plt\n",
    "from sklearn import model_selection\n",
    "from sklearn.model_selection import cross_val_score, GridSearchCV\n",
    "from sklearn.metrics import f1_score\n",
    "from sklearn.metrics import accuracy_score\n",
    "from sklearn.linear_model import LogisticRegression\n",
    "from sklearn.tree import DecisionTreeClassifier\n",
    "from sklearn.naive_bayes import GaussianNB"
   ]
  },
  {
   "cell_type": "code",
   "execution_count": 5,
   "metadata": {},
   "outputs": [
    {
     "name": "stdout",
     "output_type": "stream",
     "text": [
      "(1473, 9) (1473,)\n"
     ]
    }
   ],
   "source": [
    "data = [] \n",
    "target = []\n",
    "\n",
    "with open('cmc.data') as file:\n",
    "    for line in file: \n",
    "        arry = line.strip().split(\",\")\n",
    "        data.append(arry[:-1])\n",
    "        target.append(arry[-1])\n",
    "data = np.array(data)\n",
    "data = data.astype(np.float)\n",
    "target = np.array(target)\n",
    "target = target.astype(np.float)\n",
    "print(data.shape,target.shape)"
   ]
  },
  {
   "cell_type": "code",
   "execution_count": 6,
   "metadata": {},
   "outputs": [
    {
     "name": "stdout",
     "output_type": "stream",
     "text": [
      "(1178, 9) (295, 9) (1178,) (295,)\n"
     ]
    }
   ],
   "source": [
    "X_train, X_test, Y_train, Y_test = model_selection.train_test_split(data, target, test_size=0.2)\n",
    "print (X_train.shape, X_test.shape, Y_train.shape, Y_test.shape)"
   ]
  },
  {
   "cell_type": "code",
   "execution_count": 18,
   "metadata": {
    "scrolled": false
   },
   "outputs": [
    {
     "name": "stdout",
     "output_type": "stream",
     "text": [
      "0.5016949152542373 0.49097841156664684 0.5016949152542373\n"
     ]
    }
   ],
   "source": [
    "#DecisionTreeClassifier\n",
    "\n",
    "#aplicando verificação cruzada dos parâmetros max_depth e max_features *foram os compreendidos*\n",
    "\n",
    "#redividindo a base de testes em validação e testes\n",
    "X_val_train, X_val, Y_val_train, Y_val = model_selection.train_test_split(X_train, Y_train, test_size=0.1)\n",
    "\n",
    "#max_depth\n",
    "D = [2, 3, 5, None] #máxima profundidade da árvore, se none, divide até o limite mínimo de instâncias no nó *min_samples_split*\n",
    "#max_features\n",
    "F = ['auto', 'sqrt', 'log2', None] #forma como os atributos são vistos quando da divisão e distribuição deles na árvore\n",
    "\n",
    "best = 0.0\n",
    "\n",
    "for d in D:\n",
    "    for f in F:\n",
    "        dtree = DecisionTreeClassifier(max_depth = d, max_features = f)\n",
    "        dtree.fit(X_val_train, Y_val_train)\n",
    "        pred = dtree.predict(X_val)\n",
    "        \n",
    "        value = accuracy_score(Y_val, pred)\n",
    "\n",
    "        if value > best: \n",
    "            best = value\n",
    "            i = d\n",
    "            j = f\n",
    "#declaração, treino, teste\n",
    "dtree_classifier = DecisionTreeClassifier(max_depth = i, max_features = j)\n",
    "dtree_classifier.fit(X_train, Y_train)\n",
    "dtree_pred = dtree_classifier.predict(X_test)\n",
    "\n",
    "#aplicando métricas\n",
    "dtree_microf1 = f1_score(Y_test, dtree_pred, average='micro')\n",
    "dtree_macrof1 = f1_score(Y_test, dtree_pred, average='macro')\n",
    "dtree_accuracy = accuracy_score(Y_test, dtree_pred)\n",
    "print(dtree_microf1, dtree_macrof1, dtree_accuracy)"
   ]
  },
  {
   "cell_type": "code",
   "execution_count": 20,
   "metadata": {},
   "outputs": [
    {
     "name": "stdout",
     "output_type": "stream",
     "text": [
      "0.46440677966101696 0.46471108931043137 0.46440677966101696\n"
     ]
    }
   ],
   "source": [
    "#NaiveBayes : GaussianNB\n",
    "\n",
    "#não necessita de parâmetros\n",
    "bayes_classifier = GaussianNB()\n",
    "bayes_classifier.fit(X_train, Y_train) #treinando\n",
    "\n",
    "bayes_pred = bayes_classifier.predict(X_test) #na classe de teste, tento classificar corretamente a parcela de teste\n",
    "\n",
    "#aplicando métricas\n",
    "bayes_microf1 = f1_score(Y_test, bayes_pred, average='micro')\n",
    "bayes_macrof1 = f1_score(Y_test, bayes_pred, average='macro')\n",
    "bayes_accuracy = accuracy_score(Y_test, bayes_pred)\n",
    "print(bayes_microf1, bayes_macrof1, bayes_accuracy)"
   ]
  },
  {
   "cell_type": "code",
   "execution_count": 21,
   "metadata": {},
   "outputs": [
    {
     "name": "stdout",
     "output_type": "stream",
     "text": [
      "0.49491525423728816 0.4630398671096345 0.49491525423728816\n"
     ]
    }
   ],
   "source": [
    "#LogisticRegression\n",
    "\n",
    "#utilizando parâmetros padrões por questões de simplicidade\n",
    "lgt_reg = LogisticRegression()\n",
    "lgt_reg.fit(X_train, Y_train) #treinando\n",
    "\n",
    "lgt_pred = lgt_reg.predict(X_test) #na classe de teste, tento classificar corretamente a parcela de teste\n",
    "\n",
    "#aplicando métricas\n",
    "lgt_microf1 = f1_score(Y_test, lgt_pred, average='micro')\n",
    "lgt_macrof1 = f1_score(Y_test, lgt_pred, average='macro')\n",
    "lgt_accuracy = accuracy_score(Y_test, lgt_pred)\n",
    "print(lgt_microf1, lgt_macrof1, lgt_accuracy)"
   ]
  },
  {
   "cell_type": "code",
   "execution_count": 32,
   "metadata": {},
   "outputs": [],
   "source": [
    "#plotando resultados\n",
    "np.Comparacao=[[dtree_microf1,dtree_macrof1,dtree_accuracy],[bayes_microf1,bayes_macrof1,bayes_accuracy],[lgt_microf1,lgt_macrof1,lgt_accuracy]]"
   ]
  },
  {
   "cell_type": "code",
   "execution_count": 30,
   "metadata": {},
   "outputs": [],
   "source": [
    "base = pd.DataFrame(np.Comparacao, index=('Árvore de decisão' , 'Gaussian Naive Bayes', 'Logistic Regression'), columns=('Micro-F1', 'Macro-F1', 'Acurácia'))"
   ]
  },
  {
   "cell_type": "code",
   "execution_count": 26,
   "metadata": {},
   "outputs": [
    {
     "data": {
      "text/plain": [
       "[[0.5016949152542373, 0.49097841156664684, 0.5016949152542373],\n",
       " [0.46440677966101696, 0.46471108931043137, 0.46440677966101696],\n",
       " [0.49491525423728816, 0.4630398671096345, 0.49491525423728816]]"
      ]
     },
     "execution_count": 26,
     "metadata": {},
     "output_type": "execute_result"
    }
   ],
   "source": [
    "np.Comparacao"
   ]
  },
  {
   "cell_type": "code",
   "execution_count": 31,
   "metadata": {},
   "outputs": [
    {
     "data": {
      "text/plain": [
       "<matplotlib.axes._subplots.AxesSubplot at 0x19fc62c5cf8>"
      ]
     },
     "execution_count": 31,
     "metadata": {},
     "output_type": "execute_result"
    },
    {
     "data": {
      "image/png": "[encoded data removed]",
      "text/plain": [
       "<Figure size 864x864 with 1 Axes>"
      ]
     },
     "metadata": {},
     "output_type": "display_data"
    }
   ],
   "source": [
    "base.plot(kind='barh', figsize=(12,12), title='Comparativo de Qualidade de Classificadores')"
   ]
  }
 ],
 "metadata": {
  "kernelspec": {
   "display_name": "Python 3",
   "language": "python",
   "name": "python3"
  },
  "language_info": {
   "codemirror_mode": {
    "name": "ipython",
    "version": 3
   },
   "file_extension": ".py",
   "mimetype": "text/x-python",
   "name": "python",
   "nbconvert_exporter": "python",
   "pygments_lexer": "ipython3",
   "version": "3.6.5"
  }
 },
 "nbformat": 4,
 "nbformat_minor": 2
}
